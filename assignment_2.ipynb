{
  "nbformat": 4,
  "nbformat_minor": 0,
  "metadata": {
    "colab": {
      "provenance": [],
      "authorship_tag": "ABX9TyMNsA5w0S5nqU+VN26eoWJT",
      "include_colab_link": true
    },
    "kernelspec": {
      "name": "python3",
      "display_name": "Python 3"
    },
    "language_info": {
      "name": "python"
    }
  },
  "cells": [
    {
      "cell_type": "markdown",
      "metadata": {
        "id": "view-in-github",
        "colab_type": "text"
      },
      "source": [
        "<a href=\"https://colab.research.google.com/github/rishitdass/assignments/blob/main/assignment_2.ipynb\" target=\"_parent\"><img src=\"https://colab.research.google.com/assets/colab-badge.svg\" alt=\"Open In Colab\"/></a>"
      ]
    },
    {
      "cell_type": "code",
      "execution_count": null,
      "metadata": {
        "id": "dF8_BnSsGqim"
      },
      "outputs": [],
      "source": [
        "import numpy as np\n",
        "ar=np.array([1,2,3,4,5,6])"
      ]
    },
    {
      "cell_type": "markdown",
      "source": [
        "1st question"
      ],
      "metadata": {
        "id": "5xo8pudjJrur"
      }
    },
    {
      "cell_type": "code",
      "source": [
        "ar_r=ar[::-1]\n",
        "ar_r"
      ],
      "metadata": {
        "colab": {
          "base_uri": "https://localhost:8080/"
        },
        "id": "l1twn4hgG4ET",
        "outputId": "ccba6e44-9f1d-47d9-e37f-712cd973b9f2"
      },
      "execution_count": null,
      "outputs": [
        {
          "output_type": "execute_result",
          "data": {
            "text/plain": [
              "array([6, 5, 4, 3, 2, 1])"
            ]
          },
          "metadata": {},
          "execution_count": 5
        }
      ]
    },
    {
      "cell_type": "markdown",
      "source": [
        "2nd question"
      ],
      "metadata": {
        "id": "HiN3rEFfJ1Vo"
      }
    },
    {
      "cell_type": "code",
      "source": [
        "arr1=np.array([[1,2],[3,4]])\n",
        "arr2=np.array([[1,2],[3,4]])\n"
      ],
      "metadata": {
        "id": "rPadSWtpHAzO"
      },
      "execution_count": null,
      "outputs": []
    },
    {
      "cell_type": "code",
      "source": [
        "arr1==arr2"
      ],
      "metadata": {
        "colab": {
          "base_uri": "https://localhost:8080/"
        },
        "id": "sPDlveyNHPtw",
        "outputId": "f457a78a-5867-4576-c4f7-cfd284709548"
      },
      "execution_count": null,
      "outputs": [
        {
          "output_type": "execute_result",
          "data": {
            "text/plain": [
              "array([[ True,  True],\n",
              "       [ True,  True]])"
            ]
          },
          "metadata": {},
          "execution_count": 22
        }
      ]
    },
    {
      "cell_type": "code",
      "source": [
        "np.array_equal(arr1,arr2)"
      ],
      "metadata": {
        "colab": {
          "base_uri": "https://localhost:8080/"
        },
        "id": "7ZWBspY3H9Zp",
        "outputId": "dcc4660b-530b-4801-dc08-696e6744ba2e"
      },
      "execution_count": null,
      "outputs": [
        {
          "output_type": "execute_result",
          "data": {
            "text/plain": [
              "True"
            ]
          },
          "metadata": {},
          "execution_count": 9
        }
      ]
    },
    {
      "cell_type": "markdown",
      "source": [
        "3rd question\n"
      ],
      "metadata": {
        "id": "SuDnaKaWJ46h"
      }
    },
    {
      "cell_type": "code",
      "source": [
        "x=np.array([1,2,3,4,5,2,1,1,1])\n",
        "y=np.array([1,1,1,2,3,4,2,4,3,3,3])"
      ],
      "metadata": {
        "id": "UHxLftd4IDoP"
      },
      "execution_count": null,
      "outputs": []
    },
    {
      "cell_type": "code",
      "source": [
        "def most_freq(arr):\n",
        "  array,count=np.unique(arr,return_counts=True)\n",
        "  most_freq_element=array[np.argmax(count)]\n",
        "  indeces=[]\n",
        "  for i in range(len(arr)):\n",
        "    if arr[i]==most_freq_element:\n",
        "     indeces.append(i)\n",
        "  print(f\"most frequent element: {most_freq_element}`, and its indeces are{indeces}\")"
      ],
      "metadata": {
        "id": "rDYCXTcwJ7-g"
      },
      "execution_count": null,
      "outputs": []
    },
    {
      "cell_type": "code",
      "source": [
        "most_freq(x)"
      ],
      "metadata": {
        "colab": {
          "base_uri": "https://localhost:8080/"
        },
        "id": "ION6gYc7JJ-4",
        "outputId": "07f93ce3-6b58-44fa-ed1f-da1cda0f6d9b"
      },
      "execution_count": null,
      "outputs": [
        {
          "output_type": "stream",
          "name": "stdout",
          "text": [
            "most frequent element: 1`, and its indeces are[0, 6, 7, 8]\n"
          ]
        }
      ]
    },
    {
      "cell_type": "code",
      "source": [
        "most_freq(y)"
      ],
      "metadata": {
        "colab": {
          "base_uri": "https://localhost:8080/"
        },
        "id": "QoTHrueSLNoA",
        "outputId": "01c605cf-c469-42fb-87ad-238c241a6854"
      },
      "execution_count": null,
      "outputs": [
        {
          "output_type": "stream",
          "name": "stdout",
          "text": [
            "most frequent element: 3`, and its indeces are[4, 8, 9, 10]\n"
          ]
        }
      ]
    },
    {
      "cell_type": "markdown",
      "source": [
        "Question 4"
      ],
      "metadata": {
        "id": "5imwFgzeLWRz"
      }
    },
    {
      "cell_type": "code",
      "source": [
        "gfg=np.matrix('[4,1,9;12,3,1;4,5,6]')"
      ],
      "metadata": {
        "id": "lxNzlJC-LPaf"
      },
      "execution_count": null,
      "outputs": []
    },
    {
      "cell_type": "code",
      "source": [
        "sum=np.sum(gfg)\n",
        "sum_row=np.sum(gfg,axis=1)\n",
        "sum_col=np.sum(gfg,axis=0)\n",
        "sum,sum_row,sum_col"
      ],
      "metadata": {
        "colab": {
          "base_uri": "https://localhost:8080/"
        },
        "id": "Ho2Xa9D3Lhwo",
        "outputId": "b59dc107-8537-4bf3-db17-9c5b5c26b318"
      },
      "execution_count": null,
      "outputs": [
        {
          "output_type": "execute_result",
          "data": {
            "text/plain": [
              "(45,\n",
              " matrix([[14],\n",
              "         [16],\n",
              "         [15]]),\n",
              " matrix([[20,  9, 16]]))"
            ]
          },
          "metadata": {},
          "execution_count": 36
        }
      ]
    },
    {
      "cell_type": "code",
      "source": [],
      "metadata": {
        "id": "f8yv1s70Lsfy"
      },
      "execution_count": null,
      "outputs": []
    }
  ]
}